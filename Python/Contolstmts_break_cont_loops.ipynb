{
 "cells": [
  {
   "cell_type": "markdown",
   "id": "0ff9873b-ba73-467a-843d-52882ca98988",
   "metadata": {},
   "source": [
    "# BASICS OF PYTHON"
   ]
  },
  {
   "cell_type": "code",
   "execution_count": 1,
   "id": "21fe5ca3-74a5-4bb7-8b02-7aae6e201168",
   "metadata": {},
   "outputs": [
    {
     "name": "stdout",
     "output_type": "stream",
     "text": [
      "The Zen of Python, by Tim Peters\n",
      "\n",
      "Beautiful is better than ugly.\n",
      "Explicit is better than implicit.\n",
      "Simple is better than complex.\n",
      "Complex is better than complicated.\n",
      "Flat is better than nested.\n",
      "Sparse is better than dense.\n",
      "Readability counts.\n",
      "Special cases aren't special enough to break the rules.\n",
      "Although practicality beats purity.\n",
      "Errors should never pass silently.\n",
      "Unless explicitly silenced.\n",
      "In the face of ambiguity, refuse the temptation to guess.\n",
      "There should be one-- and preferably only one --obvious way to do it.\n",
      "Although that way may not be obvious at first unless you're Dutch.\n",
      "Now is better than never.\n",
      "Although never is often better than *right* now.\n",
      "If the implementation is hard to explain, it's a bad idea.\n",
      "If the implementation is easy to explain, it may be a good idea.\n",
      "Namespaces are one honking great idea -- let's do more of those!\n"
     ]
    }
   ],
   "source": [
    "import this"
   ]
  },
  {
   "cell_type": "code",
   "execution_count": 3,
   "id": "c9983a3f-16e4-42b2-b670-a9eb1a322c89",
   "metadata": {},
   "outputs": [
    {
     "name": "stdout",
     "output_type": "stream",
     "text": [
      "My first name is Shruti and last name is Paul.\n"
     ]
    }
   ],
   "source": [
    "first_name = \"Shruti\"\n",
    "last_name = \"Paul\"\n",
    "print(\"My first name is {} and last name is {}.\".format(first_name,last_name))"
   ]
  },
  {
   "cell_type": "code",
   "execution_count": 4,
   "id": "60ee91e8-3384-420b-9915-38e5059acda3",
   "metadata": {},
   "outputs": [
    {
     "name": "stdout",
     "output_type": "stream",
     "text": [
      "My first name is Shruti and last name is Paul.\n"
     ]
    }
   ],
   "source": [
    "first_name = \"Shruti\"\n",
    "last_name = \"Paul\"\n",
    "print(\"My first name is {1} and last name is {0}.\".format(last_name,first_name))"
   ]
  },
  {
   "cell_type": "code",
   "execution_count": 8,
   "id": "01f3838f-3f81-4da2-a090-e6a83a07050f",
   "metadata": {},
   "outputs": [
    {
     "name": "stdin",
     "output_type": "stream",
     "text": [
      "Enter the number A:  1\n",
      "Enter the number B:  2\n"
     ]
    },
    {
     "name": "stdout",
     "output_type": "stream",
     "text": [
      "3\n"
     ]
    }
   ],
   "source": [
    "a = input(\"Enter the number A: \")\n",
    "b = input(\"Enter the number B: \")\n",
    "print(int(a)+int(b))"
   ]
  },
  {
   "cell_type": "markdown",
   "id": "9627daf0-b74a-454b-b124-ac0899989885",
   "metadata": {},
   "source": [
    "## Tutorial  3 - Python Loops And Control Statements(Ifelse,for,while,break)"
   ]
  },
  {
   "cell_type": "code",
   "execution_count": 4,
   "id": "5400adbf-3bd8-446f-9110-d34576ae8699",
   "metadata": {},
   "outputs": [
    {
     "name": "stdin",
     "output_type": "stream",
     "text": [
      "Enter the number  87\n"
     ]
    },
    {
     "name": "stdout",
     "output_type": "stream",
     "text": [
      "False\n"
     ]
    }
   ],
   "source": [
    "#if statement\n",
    "\n",
    "val_input = int(input(\"Enter the number \"))\n",
    "#val_input = int(user_input)\n",
    "if val_input % 2 == 0:\n",
    "    print (\"True\")\n",
    "else:\n",
    "    print(\"False\")"
   ]
  },
  {
   "cell_type": "code",
   "execution_count": 3,
   "id": "a0081bfd-bee3-4003-9415-9609e50426c5",
   "metadata": {},
   "outputs": [
    {
     "name": "stdin",
     "output_type": "stream",
     "text": [
      "Enter the age 90.2\n"
     ]
    },
    {
     "name": "stdout",
     "output_type": "stream",
     "text": [
      "Senior Citizen\n"
     ]
    }
   ],
   "source": [
    "## Age form\n",
    "##nested if else condition\n",
    "\n",
    "age=float(input(\"Enter the age\"))\n",
    "\n",
    "if(age<18):\n",
    "    print(\"Minor Age\")\n",
    "elif(age>=18 and age<=45):\n",
    "    print(\"Mid Age\")\n",
    "elif(age>45 and age<=50):\n",
    "    print(\"Senior Mid Age\")\n",
    "else: \n",
    "    print(\"Senior Citizen\")"
   ]
  },
  {
   "cell_type": "code",
   "execution_count": 6,
   "id": "284b33ed-6cd7-4026-a9af-9c612e339d1c",
   "metadata": {},
   "outputs": [
    {
     "name": "stdin",
     "output_type": "stream",
     "text": [
      "Enter yout age:  13\n"
     ]
    },
    {
     "name": "stdout",
     "output_type": "stream",
     "text": [
      "Minor age\n",
      "You are in school\n"
     ]
    }
   ],
   "source": [
    "#nestedifelse\n",
    "age = int(input(\"Enter yout age: \"))\n",
    "\n",
    "if (age<18):\n",
    "    print(\"Minor age\")\n",
    "    if(age<15):\n",
    "        print(\"You are in school\")\n",
    "    else:\n",
    "        print(\"You are in college\")\n",
    "elif(age >= 18 and age<=45):\n",
    "    print(\"Mid age\")\n",
    "elif(age>=50 and age<=60):\n",
    "    print(\"Senior Mid Age\")\n",
    "else:\n",
    "    print(\"Senior Citizen\")"
   ]
  },
  {
   "cell_type": "code",
   "execution_count": 7,
   "id": "7e1bdbda-31a8-457c-92a0-3fd518af068e",
   "metadata": {},
   "outputs": [
    {
     "name": "stdout",
     "output_type": "stream",
     "text": [
      "1\n",
      "4\n",
      "9\n",
      "16\n",
      "25\n",
      "36\n",
      "49\n",
      "64\n",
      "81\n"
     ]
    }
   ],
   "source": [
    "##Loops statement\n",
    "##for loop, while loop\n",
    "\n",
    "lst = [1,2,3,4,5,6,7,8,9]\n",
    "for i in lst:\n",
    "    print(i**2)"
   ]
  },
  {
   "cell_type": "code",
   "execution_count": 8,
   "id": "723afe4e-7b6f-4801-af6e-7240c896decf",
   "metadata": {},
   "outputs": [
    {
     "name": "stdout",
     "output_type": "stream",
     "text": [
      "45\n"
     ]
    }
   ],
   "source": [
    " ##find the sum of all the elements in the list\n",
    "\n",
    "lst = [1,2,3,4,5,6,7,8,9]\n",
    "sum1=0\n",
    "for i in lst:\n",
    "    sum1 += i\n",
    "\n",
    "print(sum1)"
   ]
  },
  {
   "cell_type": "code",
   "execution_count": 10,
   "id": "e6a9a616-6440-41c7-899a-791745dac53b",
   "metadata": {},
   "outputs": [
    {
     "name": "stdout",
     "output_type": "stream",
     "text": [
      "Even sum is 20\n",
      "Odd sum is 25\n"
     ]
    }
   ],
   "source": [
    "## find the sum of even and odd number\n",
    "\n",
    "lst = [1,2,3,4,5,6,7,8,9]\n",
    "even_sum = 0\n",
    "odd_sum = 0\n",
    "\n",
    "for i in lst:\n",
    "    if (i%2 == 0):\n",
    "        even_sum=even_sum+i\n",
    "    else:\n",
    "        odd_sum+=i\n",
    "\n",
    "print(\"Even sum is {}\".format(even_sum))\n",
    "print(\"Odd sum is {}\".format(odd_sum))"
   ]
  },
  {
   "cell_type": "code",
   "execution_count": 1,
   "id": "3eef71e9-3d13-446a-ae84-e199de7070e7",
   "metadata": {},
   "outputs": [
    {
     "name": "stdout",
     "output_type": "stream",
     "text": [
      "30 25\n"
     ]
    }
   ],
   "source": [
    "##while condition \n",
    "\n",
    "i=0\n",
    "even_sum = 0\n",
    "odd_sum = 0\n",
    "while(i<=10):\n",
    "\n",
    "    if(i%2==0):\n",
    "       even_sum=even_sum+i\n",
    "    else:\n",
    "        odd_sum+=i\n",
    "    i+=1\n",
    "print(even_sum,odd_sum)\n"
   ]
  },
  {
   "cell_type": "code",
   "execution_count": 2,
   "id": "d758dab6-16e2-4ba9-863b-ea3bbe800085",
   "metadata": {},
   "outputs": [
    {
     "name": "stdout",
     "output_type": "stream",
     "text": [
      "1\n",
      "2\n",
      "3\n"
     ]
    }
   ],
   "source": [
    "##break \n",
    "\n",
    "x=1\n",
    "while(x<7):\n",
    "    if x==4:\n",
    "        break\n",
    "    print(x)\n",
    "    x+=1\n"
   ]
  },
  {
   "cell_type": "code",
   "execution_count": 5,
   "id": "d31c5d3d-8a14-4192-a65c-c2db8fe71da4",
   "metadata": {},
   "outputs": [
    {
     "name": "stdout",
     "output_type": "stream",
     "text": [
      "1\n",
      "2\n",
      "3\n",
      "5\n",
      "6\n",
      "7\n"
     ]
    }
   ],
   "source": [
    "##continue\n",
    "\n",
    "x=0\n",
    "while(x<7):\n",
    "    x+=1\n",
    "    if x==4:\n",
    "        continue\n",
    "    print(x)\n",
    "    "
   ]
  },
  {
   "cell_type": "code",
   "execution_count": null,
   "id": "603a1110-1bea-445f-87d3-eda98fed6af9",
   "metadata": {},
   "outputs": [],
   "source": []
  },
  {
   "cell_type": "code",
   "execution_count": null,
   "id": "8be3a5cb-3349-476e-ab04-9f7b4800ee15",
   "metadata": {},
   "outputs": [],
   "source": []
  }
 ],
 "metadata": {
  "kernelspec": {
   "display_name": "Python 3 (ipykernel)",
   "language": "python",
   "name": "python3"
  },
  "language_info": {
   "codemirror_mode": {
    "name": "ipython",
    "version": 3
   },
   "file_extension": ".py",
   "mimetype": "text/x-python",
   "name": "python",
   "nbconvert_exporter": "python",
   "pygments_lexer": "ipython3",
   "version": "3.12.2"
  }
 },
 "nbformat": 4,
 "nbformat_minor": 5
}
