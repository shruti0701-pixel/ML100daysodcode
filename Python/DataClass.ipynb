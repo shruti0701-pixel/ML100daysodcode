{
 "cells": [
  {
   "cell_type": "markdown",
   "id": "6b7ba488-1f0d-4669-bb3d-06c9ae83fff0",
   "metadata": {},
   "source": [
    "Python Data Classes \n",
    "In Python, the dataclass decorator is a feature introduced in Python 3.7 that provides a concise way to define classes primarily intended to store data. It automatically generates several special methods, such as init, repr, and eq, based on the class attributes you define. This simplifies the process of creating and working with data-focused classes."
   ]
  },
  {
   "cell_type": "code",
   "execution_count": 5,
   "id": "b006ac2c-f04a-4462-903f-77d4ba026817",
   "metadata": {},
   "outputs": [
    {
     "name": "stdout",
     "output_type": "stream",
     "text": [
      "Person(name='shruti', age=21, profession='Ai Engineer')\n"
     ]
    }
   ],
   "source": [
    "from dataclasses import dataclass\n",
    "\n",
    "@dataclass\n",
    "class Person:\n",
    "    name:str\n",
    "    age:int\n",
    "    profession:str\n",
    "\n",
    "person=Person('shruti',21,'Ai Engineer')\n",
    "print(person)"
   ]
  },
  {
   "cell_type": "markdown",
   "id": "1c08b1b8-a74a-43ae-bc09-49645b10e0a0",
   "metadata": {},
   "source": [
    "The @dataclass decorator automatically generates the following methods for you:\n",
    "\n",
    "init(): Initializes the object and assigns the provided values to the attributes.\n",
    "repr(): Provides a string representation of the object.\n",
    "eq(): Implements equality comparison between two objects of the class based on their attributes."
   ]
  },
  {
   "cell_type": "code",
   "execution_count": 6,
   "id": "ba0d541e-65d7-4597-ab42-0a0314b5418a",
   "metadata": {},
   "outputs": [
    {
     "data": {
      "text/plain": [
       "21"
      ]
     },
     "execution_count": 6,
     "metadata": {},
     "output_type": "execute_result"
    }
   ],
   "source": [
    "person.age"
   ]
  },
  {
   "cell_type": "code",
   "execution_count": 7,
   "id": "4b0d950a-1d20-4490-a750-0e3e5bd9aec5",
   "metadata": {},
   "outputs": [],
   "source": [
    "@dataclass\n",
    "class Rectangle:\n",
    "    width:int\n",
    "    height:int\n",
    "    color:str='white'\n",
    "\n",
    "rectangle1=Rectangle(12,13)\n",
    "rectangle=Rectangle(13,14,'red')"
   ]
  },
  {
   "cell_type": "code",
   "execution_count": 8,
   "id": "e0b8b7fe-c661-414d-814a-1dda9ffcaff2",
   "metadata": {},
   "outputs": [
    {
     "name": "stdout",
     "output_type": "stream",
     "text": [
      "Rectangle(width=13, height=14, color='red')\n"
     ]
    }
   ],
   "source": [
    "print(rectangle)"
   ]
  },
  {
   "cell_type": "code",
   "execution_count": 9,
   "id": "84e7739d-4937-474a-aeec-eab7645d1ef0",
   "metadata": {},
   "outputs": [
    {
     "name": "stdout",
     "output_type": "stream",
     "text": [
      "Rectangle(width=12, height=13, color='white')\n"
     ]
    }
   ],
   "source": [
    "print(rectangle1)"
   ]
  },
  {
   "cell_type": "code",
   "execution_count": 10,
   "id": "1eec684b-8f74-4e2f-9bbf-42ca1740fb69",
   "metadata": {},
   "outputs": [
    {
     "data": {
      "text/plain": [
       "'red'"
      ]
     },
     "execution_count": 10,
     "metadata": {},
     "output_type": "execute_result"
    }
   ],
   "source": [
    "rectangle.color"
   ]
  },
  {
   "cell_type": "code",
   "execution_count": 12,
   "id": "e2eb97be-e844-4f0a-a011-353f138fcee7",
   "metadata": {},
   "outputs": [],
   "source": [
    "@dataclass(frozen=True)\n",
    "\n",
    "class Point:\n",
    "    x:int\n",
    "    y:int\n",
    "\n",
    "point=Point(3,4)"
   ]
  },
  {
   "cell_type": "code",
   "execution_count": 13,
   "id": "a896ba1c-1912-4403-818d-86a1cac8e37d",
   "metadata": {},
   "outputs": [
    {
     "data": {
      "text/plain": [
       "Point(x=3, y=4)"
      ]
     },
     "execution_count": 13,
     "metadata": {},
     "output_type": "execute_result"
    }
   ],
   "source": [
    "point"
   ]
  },
  {
   "cell_type": "code",
   "execution_count": 14,
   "id": "a9f7adbd-c34b-46a0-a586-2d2bbc4bb6a7",
   "metadata": {},
   "outputs": [
    {
     "data": {
      "text/plain": [
       "(3, 4)"
      ]
     },
     "execution_count": 14,
     "metadata": {},
     "output_type": "execute_result"
    }
   ],
   "source": [
    "point.x,point.y"
   ]
  },
  {
   "cell_type": "code",
   "execution_count": 15,
   "id": "803e7af6-3c16-4a4e-abad-ab928c062800",
   "metadata": {},
   "outputs": [
    {
     "ename": "FrozenInstanceError",
     "evalue": "cannot assign to field 'x'",
     "output_type": "error",
     "traceback": [
      "\u001b[1;31m---------------------------------------------------------------------------\u001b[0m",
      "\u001b[1;31mFrozenInstanceError\u001b[0m                       Traceback (most recent call last)",
      "Cell \u001b[1;32mIn[15], line 1\u001b[0m\n\u001b[1;32m----> 1\u001b[0m \u001b[43mpoint\u001b[49m\u001b[38;5;241;43m.\u001b[39;49m\u001b[43mx\u001b[49m\u001b[38;5;241m=\u001b[39m\u001b[38;5;241m12\u001b[39m\n",
      "File \u001b[1;32m<string>:4\u001b[0m, in \u001b[0;36m__setattr__\u001b[1;34m(self, name, value)\u001b[0m\n",
      "\u001b[1;31mFrozenInstanceError\u001b[0m: cannot assign to field 'x'"
     ]
    }
   ],
   "source": [
    "point.x=12"
   ]
  },
  {
   "cell_type": "code",
   "execution_count": 16,
   "id": "e009fb67-a0fe-493d-a87f-cc274d1c3644",
   "metadata": {},
   "outputs": [],
   "source": [
    "##inheritance\n",
    "\n",
    "@dataclass\n",
    "class Person:\n",
    "    name:str\n",
    "    age:int\n",
    "\n",
    "@dataclass\n",
    "class Employee(Person):\n",
    "    employee_id:int\n",
    "    department:str"
   ]
  },
  {
   "cell_type": "code",
   "execution_count": 17,
   "id": "47529ebf-2b0b-4553-a74d-35ded1735e63",
   "metadata": {},
   "outputs": [],
   "source": [
    "person= Person('Krish',31)\n",
    "employee=Employee(\"Krish\",31,121,\"AI\")"
   ]
  },
  {
   "cell_type": "code",
   "execution_count": 18,
   "id": "027c88b5-2bb0-407a-a0c7-0c183306d9ba",
   "metadata": {},
   "outputs": [
    {
     "data": {
      "text/plain": [
       "Employee(name='Krish', age=31, employee_id=121, department='AI')"
      ]
     },
     "execution_count": 18,
     "metadata": {},
     "output_type": "execute_result"
    }
   ],
   "source": [
    "person\n",
    "employee"
   ]
  },
  {
   "cell_type": "code",
   "execution_count": 19,
   "id": "83d55b42-a12e-4c19-a299-408df9ee7560",
   "metadata": {},
   "outputs": [
    {
     "data": {
      "text/plain": [
       "'Krish'"
      ]
     },
     "execution_count": 19,
     "metadata": {},
     "output_type": "execute_result"
    }
   ],
   "source": [
    "employee.name"
   ]
  },
  {
   "cell_type": "code",
   "execution_count": 20,
   "id": "576b9c36-8d23-4003-9e80-1b8a5e6ded72",
   "metadata": {},
   "outputs": [],
   "source": [
    "##Nested DataClasses\n",
    "\n",
    "@dataclass\n",
    "class Address:\n",
    "    street:str\n",
    "    city:str\n",
    "    zip_code:int\n",
    "\n",
    "@dataclass\n",
    "class Person:\n",
    "    name:str\n",
    "    age:str\n",
    "    address:Address"
   ]
  },
  {
   "cell_type": "code",
   "execution_count": 21,
   "id": "60e51443-0c74-42ef-a944-e101a3b4090d",
   "metadata": {},
   "outputs": [],
   "source": [
    "address=Address('123 MAin street','Bangalore','12345')\n",
    "person=Person(\"Shruti\",31,address)"
   ]
  },
  {
   "cell_type": "code",
   "execution_count": 22,
   "id": "dea017eb-5ca6-4db8-8444-9c683cbe5b61",
   "metadata": {},
   "outputs": [
    {
     "data": {
      "text/plain": [
       "Person(name='Shruti', age=31, address=Address(street='123 MAin street', city='Bangalore', zip_code='12345'))"
      ]
     },
     "execution_count": 22,
     "metadata": {},
     "output_type": "execute_result"
    }
   ],
   "source": [
    "person"
   ]
  },
  {
   "cell_type": "code",
   "execution_count": 23,
   "id": "7d13adc5-6b78-470c-9df1-b9d509a92a0a",
   "metadata": {},
   "outputs": [
    {
     "data": {
      "text/plain": [
       "'Bangalore'"
      ]
     },
     "execution_count": 23,
     "metadata": {},
     "output_type": "execute_result"
    }
   ],
   "source": [
    "person.address.city"
   ]
  },
  {
   "cell_type": "code",
   "execution_count": null,
   "id": "fb291982-14eb-4523-a740-6f39ba2e3a84",
   "metadata": {},
   "outputs": [],
   "source": []
  }
 ],
 "metadata": {
  "kernelspec": {
   "display_name": "Python 3 (ipykernel)",
   "language": "python",
   "name": "python3"
  },
  "language_info": {
   "codemirror_mode": {
    "name": "ipython",
    "version": 3
   },
   "file_extension": ".py",
   "mimetype": "text/x-python",
   "name": "python",
   "nbconvert_exporter": "python",
   "pygments_lexer": "ipython3",
   "version": "3.12.2"
  }
 },
 "nbformat": 4,
 "nbformat_minor": 5
}
